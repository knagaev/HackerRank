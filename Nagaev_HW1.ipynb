{
  "cells": [
    {
      "cell_type": "markdown",
      "metadata": {
        "id": "view-in-github",
        "colab_type": "text"
      },
      "source": [
        "<a href=\"https://colab.research.google.com/github/knagaev/HackerRank/blob/main/Nagaev_HW1.ipynb\" target=\"_parent\"><img src=\"https://colab.research.google.com/assets/colab-badge.svg\" alt=\"Open In Colab\"/></a>"
      ]
    },
    {
      "cell_type": "markdown",
      "metadata": {
        "id": "8XNsxi9Fqxsl"
      },
      "source": [
        "# Задачи на методы одномерной минимизации и методы нулевого порядка"
      ]
    },
    {
      "cell_type": "markdown",
      "metadata": {
        "id": "yuOh5PXFq6DN"
      },
      "source": [
        "## Задача 1 (3 pts)\n",
        "\n",
        "В конспекте можно найти псевдокод для метода золотого сечения, а также метод Фибоначчи описан в статье [тут](https://neerc.ifmo.ru/wiki/index.php?title=%D0%9C%D0%B5%D1%82%D0%BE%D0%B4_%D0%A4%D0%B8%D0%B1%D0%BE%D0%BD%D0%B0%D1%87%D1%87%D0%B8#:~:text=%D0%9C%D0%B5%D1%82%D0%BE%D0%B4%20%D0%A4%D0%B8%D0%B1%D0%BE%D0%BD%D0%B0%D1%87%D1%87%D0%B8%5B%D0%BF%D1%80%D0%B0%D0%B2%D0%B8%D1%82%D1%8C%5D,%D0%BA%D0%B0%D0%B6%D0%B4%D0%BE%D0%B9%20%D0%BF%D0%BE%D1%81%D0%BB%D0%B5%D0%B4%D1%83%D1%8E%D1%89%D0%B5%D0%B9%20%D1%82%D0%BE%D0%BB%D1%8C%D0%BA%D0%BE%20%D0%BF%D0%BE%20%D0%BE%D0%B4%D0%BD%D0%BE%D0%BC%D1%83.).\n",
        "Ваша задача реализовать эти два метода и протестировать их сходимость по времени и по итерациям для функции\n",
        "\n",
        "$$ f(x) = -\\frac{1}{(x-1)^2} \\left( \\log x - 2 \\frac{x-1}{x+1} \\right) $$\n",
        "\n",
        "на отрезке $[1.2, 5]$."
      ]
    },
    {
      "cell_type": "code",
      "execution_count": 3,
      "metadata": {
        "colab": {
          "base_uri": "https://localhost:8080/",
          "height": 220
        },
        "id": "LA4AcBvVq5hm",
        "outputId": "bb08c004-5978-41e0-8e19-02dd661dcc87"
      },
      "outputs": [
        {
          "output_type": "execute_result",
          "data": {
            "text/plain": [
              "[<matplotlib.lines.Line2D at 0x7b08d9211850>]"
            ]
          },
          "metadata": {},
          "execution_count": 3
        },
        {
          "output_type": "display_data",
          "data": {
            "text/plain": [
              "<Figure size 640x480 with 1 Axes>"
            ],
            "image/png": "[encoded data removed]"
          },
          "metadata": {}
        }
      ],
      "source": [
        "import numpy as np\n",
        "import matplotlib.pyplot as plt\n",
        "\n",
        "def func(x):\n",
        "  return -1./(x-1)**2 * (np.log(x) - 2 * (x - 1) / (x+1))\n",
        "\n",
        "x = np.linspace(1.2, 5, num=100)\n",
        "y = func(x)\n",
        "plt.plot(x, y)"
      ]
    },
    {
      "cell_type": "code",
      "execution_count": 7,
      "metadata": {
        "id": "jtYactI2KDpR",
        "outputId": "8b6c4a15-5a85-47ef-ec6e-6c36d313b941",
        "colab": {
          "base_uri": "https://localhost:8080/"
        }
      },
      "outputs": [
        {
          "output_type": "stream",
          "name": "stdout",
          "text": [
            "Метод золотого сечения:\n",
            "x = 2.1887047217473206, f(x) = -0.02670719022307065, 32 итераций за 0.0003647804260253906\n",
            "Метод Фибоначчи:\n",
            "x = 2.1887046550704516, f(x) = -0.0267071902230706, 34 итераций за 12.167223930358887\n"
          ]
        }
      ],
      "source": [
        "\n",
        "import time\n",
        "\n",
        "def golden_ratio_method(func, a, b, eps=1e-6, lim_iter=1000):\n",
        "    phi = (np.sqrt(5) + 1.) / 2.\n",
        "    i = 0\n",
        "\n",
        "    while np.abs(b - a) > eps and i < lim_iter:\n",
        "\n",
        "        x1 = b - (b - a) / phi\n",
        "        x2 = a + (b - a) / phi\n",
        "\n",
        "        y1 = func(x1)\n",
        "        y2 = func(x2)\n",
        "\n",
        "        if y1 >= y2:\n",
        "            a = x1\n",
        "        else:\n",
        "            b = x2\n",
        "\n",
        "        i += 1\n",
        "\n",
        "    x = (a + b) / 2\n",
        "    return (x, func(x), i)\n",
        "\n",
        "def fib(n):\n",
        "    if n <= 1:\n",
        "        return n\n",
        "    else:\n",
        "        return fib(n-1) + fib(n-2)\n",
        "\n",
        "def fibonacci_method(func, a, b, eps=1e-6):\n",
        "    n = 0\n",
        "    while fib(n) < (b-a) / eps:\n",
        "        n += 1\n",
        "\n",
        "    x1 = a + (fib(n-2) / fib(n)) * (b-a)\n",
        "    x2 = a + (fib(n-1) / fib(n)) * (b-a)\n",
        "\n",
        "    f1 = func(x1)\n",
        "    f2 = func(x2)\n",
        "\n",
        "    for i in range(2, n):\n",
        "        if f1 < f2:\n",
        "            b = x2\n",
        "            x2 = x1\n",
        "            f2 = f1\n",
        "            x1 = a + (fib(n-i) / fib(n-i+2)) * (b-a)\n",
        "            f1 = func(x1)\n",
        "        else:\n",
        "            a = x1\n",
        "            x1 = x2\n",
        "            f1 = f2\n",
        "            x2 = a + (fib(n-i+1) / fib(n-i+2)) * (b-a)\n",
        "            f2 = func(x2)\n",
        "\n",
        "    x = (a + b) / 2\n",
        "    return (x, func(x), n)\n",
        "\n",
        "a, b = 1.2, 5.0\n",
        "\n",
        "start_time = time.time()\n",
        "x_gr, f_gr, i = golden_ratio_method(func, a, b)\n",
        "time_gr = time.time() - start_time\n",
        "\n",
        "print(\"Метод золотого сечения:\")\n",
        "print(f\"x = {x_gr}, f(x) = {f_gr}, {i} итераций за {time_gr}\")\n",
        "\n",
        "start_time = time.time()\n",
        "x_fib, f_fib, i = fibonacci_method(func, a, b)\n",
        "time_fib = time.time() - start_time\n",
        "\n",
        "print(\"Метод Фибоначчи:\")\n",
        "print(f\"x = {x_fib}, f(x) = {f_fib}, {i} итераций за {time_fib}\")"
      ]
    },
    {
      "cell_type": "markdown",
      "metadata": {
        "id": "oG8OEFm_ud7T"
      },
      "source": [
        "## Задача 2 (5 pts)\n",
        "\n",
        "Для функций, область определения которых является подмножеством пространства размерности больше 1, применение таких простых методов становится затруднительным, так как означает экспоненциальную сложность по размерности задачи.\n",
        "Поэтому для решения таких задач были предложены другие методы нулевого порядка, то есть безградиентные.\n",
        "\n",
        "Для простоты сравните метод Нелдера-Мида из пакета [scipy.optimize](https://docs.scipy.org/doc/scipy/reference/optimize.minimize-neldermead.html) и стандартный метод из библиотеки [zoopt](https://zoopt.readthedocs.io/en/latest/index.html) по времени работы и по итерациям необходимым до сходимости к заданной точности.\n",
        "\n",
        "Тестовая задача:\n",
        "\n",
        "$$ \\min_{x \\in \\mathbb{R}^n} 5 n + \\sum_{i=1}^n [x_i^2 - 5\\cos 2\\pi x_i]$$\n",
        "\n",
        "- $n=2$\n",
        "- $n=5$\n",
        "- $n=20$"
      ]
    },
    {
      "cell_type": "code",
      "execution_count": null,
      "metadata": {
        "id": "JNI-G-hcudMw",
        "outputId": "b9bef915-def8-4f8d-e17b-db9cdbcbb0c1"
      },
      "outputs": [
        {
          "name": "stdout",
          "output_type": "stream",
          "text": [
            "\n",
            "Размерность: 2\n",
            "[zoopt] x: [0, 0]\n",
            "[zoopt] value: 0.0\n",
            "Нелдер-Мид: f(x) = 1.979933, время: 0.0022 сек, итераций: 23\n",
            "zoopt: f(x) = 0.000000, время: 0.2215 сек, итераций: 5000\n",
            "\n",
            "Размерность: 5\n",
            "[zoopt] x: [0, 0, 0, 0, 0]\n",
            "[zoopt] value: 0.0\n",
            "Нелдер-Мид: f(x) = 4.949831, время: 0.0032 сек, итераций: 70\n",
            "zoopt: f(x) = 0.000000, время: 0.2527 сек, итераций: 5000\n",
            "\n",
            "Размерность: 20\n",
            "[zoopt] x: [0, 0, 0, 1, 0, -1, 0, 0, 0, 0, 0, 0, 0, 0, 0, 0, 0, 0, 0, 0]\n",
            "[zoopt] value: 2.0\n",
            "Нелдер-Мид: f(x) = 19.799326, время: 0.0138 сек, итераций: 426\n",
            "zoopt: f(x) = 2.000000, время: 0.3953 сек, итераций: 5000\n"
          ]
        }
      ],
      "source": [
        "from scipy.optimize import minimize\n",
        "from zoopt import Dimension, Objective, Parameter, Opt\n",
        "\n",
        "def func(x):\n",
        "    n = len(x)\n",
        "    return 5 * n + sum([xi**2 - 5 * np.cos(2 * np.pi * xi) for xi in x])\n",
        "\n",
        "# Для zoopt исправление формата - массив из солвера\n",
        "def zoopt_func(solution):\n",
        "    x = solution.get_x()\n",
        "    return func(x)\n",
        "\n",
        "dimensions = [2, 5, 20]\n",
        "results = {}\n",
        "\n",
        "for n in dimensions:\n",
        "    print(f\"\\nРазмерность: {n}\")\n",
        "\n",
        "    # Нелдер-Мид\n",
        "    x0 = np.ones(n)\n",
        "    start_time = time.time()\n",
        "    result_nm = minimize(func, x0, method='Nelder-Mead', options={'disp': False, 'maxiter': 10000})\n",
        "    time_nm = time.time() - start_time\n",
        "\n",
        "    # zoopt\n",
        "    zoopt_success = False\n",
        "    zoopt_value = float('inf')\n",
        "    zoopt_time = 0\n",
        "\n",
        "    dim = Dimension(n, [[-10, 10]] * n, [False] * n)\n",
        "    objective = Objective(zoopt_func, dim)\n",
        "    start_time = time.time()\n",
        "    parameter = Parameter(budget=5000, intermediate_result=False)\n",
        "    solution = Opt.min(objective, parameter)\n",
        "    zoopt_time = time.time() - start_time\n",
        "    zoopt_value = solution.get_value()\n",
        "\n",
        "    print(f\"Нелдер-Мид: f(x) = {result_nm.fun:.6f}, время: {time_nm:.4f} сек, итераций: {result_nm.nit}\")\n",
        "    print(f\"zoopt: f(x) = {zoopt_value:.6f}, время: {zoopt_time:.4f} сек, итераций: 5000\")\n"
      ]
    },
    {
      "cell_type": "code",
      "execution_count": null,
      "metadata": {
        "id": "toc9ceyLY3iz"
      },
      "outputs": [],
      "source": []
    }
  ],
  "metadata": {
    "colab": {
      "provenance": [],
      "include_colab_link": true
    },
    "kernelspec": {
      "display_name": "Python 3 (ipykernel)",
      "language": "python",
      "name": "python3"
    },
    "language_info": {
      "codemirror_mode": {
        "name": "ipython",
        "version": 3
      },
      "file_extension": ".py",
      "mimetype": "text/x-python",
      "name": "python",
      "nbconvert_exporter": "python",
      "pygments_lexer": "ipython3",
      "version": "3.11.11"
    }
  },
  "nbformat": 4,
  "nbformat_minor": 0
}