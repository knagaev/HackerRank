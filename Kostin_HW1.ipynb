{
  "cells": [
    {
      "cell_type": "markdown",
      "metadata": {
        "id": "view-in-github",
        "colab_type": "text"
      },
      "source": [
        "<a href=\"https://colab.research.google.com/github/knagaev/HackerRank/blob/main/Kostin_HW1.ipynb\" target=\"_parent\"><img src=\"https://colab.research.google.com/assets/colab-badge.svg\" alt=\"Open In Colab\"/></a>"
      ]
    },
    {
      "cell_type": "markdown",
      "metadata": {
        "id": "8XNsxi9Fqxsl"
      },
      "source": [
        "# Задачи на методы одномерной минимизации и методы нулевого порядка"
      ]
    },
    {
      "cell_type": "markdown",
      "metadata": {
        "id": "yuOh5PXFq6DN"
      },
      "source": [
        "## Задача 1 (3 pts)\n",
        "\n",
        "В конспекте можно найти псевдокод для метода золотого сечения, а также метод Фибоначчи описан в статье [тут](https://neerc.ifmo.ru/wiki/index.php?title=%D0%9C%D0%B5%D1%82%D0%BE%D0%B4_%D0%A4%D0%B8%D0%B1%D0%BE%D0%BD%D0%B0%D1%87%D1%87%D0%B8#:~:text=%D0%9C%D0%B5%D1%82%D0%BE%D0%B4%20%D0%A4%D0%B8%D0%B1%D0%BE%D0%BD%D0%B0%D1%87%D1%87%D0%B8%5B%D0%BF%D1%80%D0%B0%D0%B2%D0%B8%D1%82%D1%8C%5D,%D0%BA%D0%B0%D0%B6%D0%B4%D0%BE%D0%B9%20%D0%BF%D0%BE%D1%81%D0%BB%D0%B5%D0%B4%D1%83%D1%8E%D1%89%D0%B5%D0%B9%20%D1%82%D0%BE%D0%BB%D1%8C%D0%BA%D0%BE%20%D0%BF%D0%BE%20%D0%BE%D0%B4%D0%BD%D0%BE%D0%BC%D1%83.).\n",
        "Ваша задача реализовать эти два метода и протестировать их сходимость по времени и по итерациям для функции\n",
        "\n",
        "$$ f(x) = -\\frac{1}{(x-1)^2} \\left( \\log x - 2 \\frac{x-1}{x+1} \\right) $$\n",
        "\n",
        "на отрезке $[1.2, 5]$."
      ]
    },
    {
      "cell_type": "code",
      "execution_count": null,
      "metadata": {
        "colab": {
          "base_uri": "https://localhost:8080/",
          "height": 220
        },
        "id": "LA4AcBvVq5hm",
        "outputId": "7bd0c786-9543-4e5d-e36b-0c13e2425f65"
      },
      "outputs": [
        {
          "output_type": "execute_result",
          "data": {
            "text/plain": [
              "[<matplotlib.lines.Line2D at 0x79ba05355a60>]"
            ]
          },
          "metadata": {},
          "execution_count": 7
        },
        {
          "output_type": "display_data",
          "data": {
            "text/plain": [
              "<Figure size 640x480 with 1 Axes>"
            ],
            "image/png": "[encoded data removed]"
          },
          "metadata": {}
        }
      ],
      "source": [
        "import numpy as np\n",
        "import matplotlib.pyplot as plt\n",
        "\n",
        "def func(x):\n",
        "  return -1./(x-1)**2 * (np.log(x) - 2 * (x - 1) / (x+1))\n",
        "\n",
        "x = np.linspace(1.2, 5, num=100)\n",
        "y = func(x)\n",
        "plt.plot(x, y)"
      ]
    },
    {
      "cell_type": "code",
      "execution_count": null,
      "metadata": {
        "colab": {
          "base_uri": "https://localhost:8080/"
        },
        "id": "jtYactI2KDpR",
        "outputId": "492744e3-4db2-4528-8c6a-28b301bcbf0f"
      },
      "outputs": [
        {
          "name": "stdout",
          "output_type": "stream",
          "text": [
            "\n",
            "Метод золотого сечения:\n",
            "Минимум: x = 2.1887047217473206, f(x) = -0.02670719022307065\n",
            "Итерации: 32, Время: 0.000331 сек\n",
            "\n",
            "Метод Фибоначчи:\n",
            "Минимум: x = 2.1887046550704516, f(x) = -0.0267071902230706\n",
            "Итерации: 32, Время: 0.000306 сек\n"
          ]
        }
      ],
      "source": [
        "import time\n",
        "\n",
        "def golden(f, a, b, tol=1e-6, max_iter=100):\n",
        "    golden_ratio = (np.sqrt(5) - 1) / 2\n",
        "\n",
        "    y = a + (1 - golden_ratio) * (b - a)\n",
        "    z = a + golden_ratio * (b - a)\n",
        "    f_y = f(y)\n",
        "    f_z = f(z)\n",
        "\n",
        "    iters = 0\n",
        "    stack = []\n",
        "\n",
        "    while abs(b - a) > tol and iters < max_iter:\n",
        "        iters += 1\n",
        "        stack.append((a, b))\n",
        "        if f_y <= f_z:\n",
        "            b = z\n",
        "            z = y\n",
        "            f_z = f_y\n",
        "            y = a + (1 - golden_ratio) * (b - a)\n",
        "            f_y = f(y)\n",
        "        else:\n",
        "            a = y\n",
        "            y = z\n",
        "            f_y = f_z\n",
        "            z = a + golden_ratio * (b - a)\n",
        "            f_z = f(z)\n",
        "\n",
        "    x_min = (a + b) / 2\n",
        "    return x_min, f(x_min), iters, stack\n",
        "\n",
        "def fibo(f, a, b, tol=1e-6, max_iter=100):\n",
        "    fib = [1, 1]\n",
        "    while fib[-1] < (b - a) / tol:\n",
        "        fib.append(fib[-1] + fib[-2])\n",
        "\n",
        "    n = len(fib) - 1\n",
        "    if n > max_iter: n = max_iter\n",
        "\n",
        "    y = a + (fib[n-2] / fib[n]) * (b - a)\n",
        "    z = a + (fib[n-1] / fib[n]) * (b - a)\n",
        "    f_y = f(y)\n",
        "    f_z = f(z)\n",
        "\n",
        "    iters = 0\n",
        "    stack = []\n",
        "\n",
        "    for k in range(1, n):\n",
        "        iters += 1\n",
        "        stack.append((a, b))\n",
        "        if f_y <= f_z:\n",
        "            b = z\n",
        "            z = y\n",
        "            f_z = f_y\n",
        "            y = a + (fib[n-k-1] / fib[n-k+1]) * (b - a)\n",
        "            f_y = f(y)\n",
        "        else:\n",
        "            a = y\n",
        "            y = z\n",
        "            f_y = f_z\n",
        "            z = a + (fib[n-k] / fib[n-k+1]) * (b - a)\n",
        "            f_z = f(z)\n",
        "\n",
        "    x_min = (a + b) / 2\n",
        "    return x_min, f(x_min), iters, stack\n",
        "\n",
        "# Запускаем функции и выводим результат\n",
        "a, b = 1.2, 5.0\n",
        "start_time = time.time()\n",
        "x_min_gs, f_min_gs, iter_gs, stack_gs = golden(func, a, b)\n",
        "time_gs = time.time() - start_time\n",
        "\n",
        "start_time = time.time()\n",
        "x_min_fib, f_min_fib, iter_fib, stack_fib = fibo(func, a, b)\n",
        "time_fib = time.time() - start_time\n",
        "\n",
        "print(\"\\nМетод золотого сечения:\")\n",
        "print(f\"Минимум: x = {x_min_gs}, f(x) = {f_min_gs}\")\n",
        "print(f\"Итерации: {iter_gs}, Время: {time_gs:.6f} сек\")\n",
        "\n",
        "print(\"\\nМетод Фибоначчи:\")\n",
        "print(f\"Минимум: x = {x_min_fib}, f(x) = {f_min_fib}\")\n",
        "print(f\"Итерации: {iter_fib}, Время: {time_fib:.6f} сек\")"
      ]
    },
    {
      "cell_type": "markdown",
      "metadata": {
        "id": "oG8OEFm_ud7T"
      },
      "source": [
        "## Задача 2 (5 pts)\n",
        "\n",
        "Для функций, область определения которых является подмножеством пространства размерности больше 1, применение таких простых методов становится затруднительным, так как означает экспоненциальную сложность по размерности задачи.\n",
        "Поэтому для решения таких задач были предложены другие методы нулевого порядка, то есть безградиентные.\n",
        "\n",
        "Для простоты сравните метод Нелдера-Мида из пакета [scipy.optimize](https://docs.scipy.org/doc/scipy/reference/optimize.minimize-neldermead.html) и стандартный метод из библиотеки [zoopt](https://zoopt.readthedocs.io/en/latest/index.html) по времени работы и по итерациям необходимым до сходимости к заданной точности.\n",
        "\n",
        "Тестовая задача:\n",
        "\n",
        "$$ \\min_{x \\in \\mathbb{R}^n} 5 n + \\sum_{i=1}^n [x_i^2 - 5\\cos 2\\pi x_i]$$\n",
        "\n",
        "- $n=2$\n",
        "- $n=5$\n",
        "- $n=20$"
      ]
    },
    {
      "cell_type": "code",
      "execution_count": null,
      "metadata": {
        "colab": {
          "base_uri": "https://localhost:8080/"
        },
        "id": "m_saKqwVLKNf",
        "outputId": "9afed499-bc62-4398-f6f0-239bbbde174f"
      },
      "outputs": [
        {
          "output_type": "stream",
          "name": "stdout",
          "text": [
            "Collecting zoopt\n",
            "  Downloading zoopt-0.4.2-py3-none-any.whl.metadata (973 bytes)\n",
            "Requirement already satisfied: numpy in /usr/local/lib/python3.12/dist-packages (from zoopt) (2.0.2)\n",
            "Requirement already satisfied: matplotlib in /usr/local/lib/python3.12/dist-packages (from zoopt) (3.10.0)\n",
            "Requirement already satisfied: contourpy>=1.0.1 in /usr/local/lib/python3.12/dist-packages (from matplotlib->zoopt) (1.3.3)\n",
            "Requirement already satisfied: cycler>=0.10 in /usr/local/lib/python3.12/dist-packages (from matplotlib->zoopt) (0.12.1)\n",
            "Requirement already satisfied: fonttools>=4.22.0 in /usr/local/lib/python3.12/dist-packages (from matplotlib->zoopt) (4.59.2)\n",
            "Requirement already satisfied: kiwisolver>=1.3.1 in /usr/local/lib/python3.12/dist-packages (from matplotlib->zoopt) (1.4.9)\n",
            "Requirement already satisfied: packaging>=20.0 in /usr/local/lib/python3.12/dist-packages (from matplotlib->zoopt) (25.0)\n",
            "Requirement already satisfied: pillow>=8 in /usr/local/lib/python3.12/dist-packages (from matplotlib->zoopt) (11.3.0)\n",
            "Requirement already satisfied: pyparsing>=2.3.1 in /usr/local/lib/python3.12/dist-packages (from matplotlib->zoopt) (3.2.3)\n",
            "Requirement already satisfied: python-dateutil>=2.7 in /usr/local/lib/python3.12/dist-packages (from matplotlib->zoopt) (2.9.0.post0)\n",
            "Requirement already satisfied: six>=1.5 in /usr/local/lib/python3.12/dist-packages (from python-dateutil>=2.7->matplotlib->zoopt) (1.17.0)\n",
            "Downloading zoopt-0.4.2-py3-none-any.whl (55 kB)\n",
            "\u001b[2K   \u001b[90m━━━━━━━━━━━━━━━━━━━━━━━━━━━━━━━━━━━━━━━━\u001b[0m \u001b[32m55.3/55.3 kB\u001b[0m \u001b[31m2.1 MB/s\u001b[0m eta \u001b[36m0:00:00\u001b[0m\n",
            "\u001b[?25hInstalling collected packages: zoopt\n",
            "Successfully installed zoopt-0.4.2\n"
          ]
        }
      ],
      "source": [
        "!pip install zoopt"
      ]
    },
    {
      "cell_type": "code",
      "execution_count": null,
      "metadata": {
        "colab": {
          "base_uri": "https://localhost:8080/"
        },
        "id": "JNI-G-hcudMw",
        "outputId": "daf1343b-4b79-4979-813f-d56e91462376"
      },
      "outputs": [
        {
          "name": "stdout",
          "output_type": "stream",
          "text": [
            "\n",
            "Размерность: 2\n",
            "[zoopt] x: [-0.004839363972292787, 1.1315067830393411e-06]\n",
            "[zoopt] value: np.float64(0.0023346479319421576)\n",
            "Нелдер-Мид: f(x) = 1.979933, время: 0.0090 сек, итераций: 23\n",
            "zoopt: f(x) = 0.002335, время: 0.8298 сек, итераций: 5000\n",
            "\n",
            "Размерность: 5\n",
            "[zoopt] x: [-0.0018638548270798762, 0.0025142343415467394, -0.0003397105970234545, 0.0020085173715402773, -0.015091223850406656]\n",
            "[zoopt] value: np.float64(0.024078669626948823)\n",
            "Нелдер-Мид: f(x) = 4.949831, время: 0.0047 сек, итераций: 70\n",
            "zoopt: f(x) = 0.024079, время: 0.8222 сек, итераций: 5000\n",
            "\n",
            "Размерность: 20\n",
            "[zoopt] x: [0.053264813013386814, -0.04571786429393043, -0.019990757691994432, -0.04786784129766364, 0.03941622872161332, 0.014305571519660276, 0.018998482093049773, 0.012818702321830244, 0.06462740305095416, 0.057031325095864165, -0.0233647762363951, -0.04353561264403005, -0.9204312410165922, 0.9577828406532447, -0.02993121692771794, -0.05823294639330001, -0.05846541312387288, -0.021979808144676483, -1.0312739635435477, 0.0019977041278878005]\n",
            "[zoopt] value: np.float64(6.474316523766831)\n",
            "Нелдер-Мид: f(x) = 19.799326, время: 0.0458 сек, итераций: 426\n",
            "zoopt: f(x) = 6.474317, время: 2.8859 сек, итераций: 5000\n"
          ]
        }
      ],
      "source": [
        "from scipy.optimize import minimize\n",
        "from zoopt import Dimension, Objective, Parameter, Opt\n",
        "\n",
        "def func(x):\n",
        "    n = len(x)\n",
        "    return 5 * n + sum([xi**2 - 5 * np.cos(2 * np.pi * xi) for xi in x])\n",
        "\n",
        "# Для zoopt исправление формата - массив из солвера\n",
        "def zoopt_func(solution):\n",
        "    x = solution.get_x()\n",
        "    return func(x)\n",
        "\n",
        "dimensions = [2, 5, 20]\n",
        "results = {}\n",
        "\n",
        "for n in dimensions:\n",
        "    print(f\"\\nРазмерность: {n}\")\n",
        "\n",
        "    # Нелдер-Мид\n",
        "    x0 = np.ones(n)\n",
        "    start_time = time.time()\n",
        "    result_nm = minimize(func, x0, method='Nelder-Mead', options={'disp': False, 'maxiter': 10000})\n",
        "    time_nm = time.time() - start_time\n",
        "\n",
        "    # zoopt\n",
        "    zoopt_success = False\n",
        "    zoopt_value = float('inf')\n",
        "    zoopt_time = 0\n",
        "\n",
        "    dim = Dimension(n, [[-10, 10]] * n, [True] * n)\n",
        "    objective = Objective(zoopt_func, dim)\n",
        "    start_time = time.time()\n",
        "    parameter = Parameter(budget=5000, intermediate_result=False)\n",
        "    solution = Opt.min(objective, parameter)\n",
        "    zoopt_time = time.time() - start_time\n",
        "    zoopt_value = solution.get_value()\n",
        "\n",
        "    print(f\"Нелдер-Мид: f(x) = {result_nm.fun:.6f}, время: {time_nm:.4f} сек, итераций: {result_nm.nit}\")\n",
        "    print(f\"zoopt: f(x) = {zoopt_value:.6f}, время: {zoopt_time:.4f} сек, итераций: 5000\")"
      ]
    },
    {
      "cell_type": "code",
      "execution_count": null,
      "metadata": {
        "colab": {
          "base_uri": "https://localhost:8080/",
          "height": 1000
        },
        "id": "WWNWjD4pM4uf",
        "outputId": "5804263f-4dc2-4c9d-ee84-abb9a2ea04c1"
      },
      "outputs": [
        {
          "output_type": "stream",
          "name": "stdout",
          "text": [
            "\n",
            "Размерность: 2\n",
            "[zoopt] [break loop] because distinct_flag is false too much times\n",
            "[zoopt] x: [3.7951633842467956e-07, -4.925996667012959e-06]\n",
            "[zoopt] value: np.float64(2.4335271575637307e-09)\n",
            "[zoopt] The best solution is:\n",
            "[zoopt] x: [3.7951633842467956e-07, -4.925996667012959e-06]\n",
            "[zoopt] value: np.float64(2.4335271575637307e-09)\n"
          ]
        },
        {
          "output_type": "display_data",
          "data": {
            "text/plain": [
              "<Figure size 640x480 with 1 Axes>"
            ],
            "image/png": "[encoded data removed]"
          },
          "metadata": {}
        },
        {
          "output_type": "stream",
          "name": "stdout",
          "text": [
            "[zoopt] Best 1 result: 2.4335271575637307e-09 +- 0.0\n",
            "\n",
            "Размерность: 5\n",
            "[zoopt] [break loop] because distinct_flag is false too much times\n",
            "[zoopt] x: [0.0021831024024563743, -1.9703821596496116e-06, 0.0016416586369314423, 0.0003435099322913186, 0.0003489161201882797]\n",
            "[zoopt] value: np.float64(0.0007677220352597658)\n",
            "[zoopt] The best solution is:\n",
            "[zoopt] x: [0.0021831024024563743, -1.9703821596496116e-06, 0.0016416586369314423, 0.0003435099322913186, 0.0003489161201882797]\n",
            "[zoopt] value: np.float64(0.0007677220352597658)\n"
          ]
        },
        {
          "output_type": "display_data",
          "data": {
            "text/plain": [
              "<Figure size 640x480 with 1 Axes>"
            ],
            "image/png": "[encoded data removed]"
          },
          "metadata": {}
        },
        {
          "output_type": "stream",
          "name": "stdout",
          "text": [
            "[zoopt] Best 1 result: 0.0007677220352597658 +- 0.0\n",
            "\n",
            "Размерность: 20\n",
            "[zoopt] expected remaining running time: 00:00:06\n",
            "[zoopt] x: [0.0001001227835124574, 0.004792785801401633, 0.0007789176162782407, 0.001018023043262317, -0.00047819023948503236, 0.0011139054502713464, 0.0006358682676810279, 0.0014890848426478698, 0.0005669409980106899, 0.00040168522224088036, -0.0007256407867814029, -0.00023442194455447485, 0.00147879294777864, 0.0006563643417523135, 0.0034949288664158917, -0.002015182043454633, 8.076260953338021e-05, -0.0017619291649757507, 0.00406298993401677, 0.002952580055771703]\n",
            "[zoopt] value: np.float64(0.0076771469572349815)\n",
            "[zoopt] The best solution is:\n",
            "[zoopt] x: [0.0001001227835124574, 0.004792785801401633, 0.0007789176162782407, 0.001018023043262317, -0.00047819023948503236, 0.0011139054502713464, 0.0006358682676810279, 0.0014890848426478698, 0.0005669409980106899, 0.00040168522224088036, -0.0007256407867814029, -0.00023442194455447485, 0.00147879294777864, 0.0006563643417523135, 0.0034949288664158917, -0.002015182043454633, 8.076260953338021e-05, -0.0017619291649757507, 0.00406298993401677, 0.002952580055771703]\n",
            "[zoopt] value: np.float64(0.0076771469572349815)\n"
          ]
        },
        {
          "output_type": "display_data",
          "data": {
            "text/plain": [
              "<Figure size 640x480 with 1 Axes>"
            ],
            "image/png": "[encoded data removed]"
          },
          "metadata": {}
        },
        {
          "output_type": "stream",
          "name": "stdout",
          "text": [
            "[zoopt] Best 1 result: 0.0076771469572349815 +- 0.0\n"
          ]
        }
      ],
      "source": [
        "from zoopt import Dimension, ValueType, Dimension2, Objective, Parameter, ExpOpt\n",
        "\n",
        "def z_func(solution):\n",
        "    x = solution.get_x()\n",
        "    return 5 * len(x) + sum([xi**2 - 5 * np.cos(2 * np.pi * xi) for xi in x])\n",
        "\n",
        "dimensions = [2, 5, 20]\n",
        "results = {}\n",
        "\n",
        "for dim_size in dimensions:\n",
        "    print(f\"\\nРазмерность: {dim_size}\")\n",
        "    # zoopt\n",
        "    '''\n",
        "    zoopt_success = False\n",
        "    zoopt_value = float('inf')\n",
        "    zoopt_time = 0\n",
        "\n",
        "    dim = Dimension(n, [[-10, 10]] * n, [True] * n)\n",
        "    objective = Objective(zoopt_func, dim)\n",
        "    start_time = time.time()\n",
        "    parameter = Parameter(budget=5000, intermediate_result=False)\n",
        "    solution = Opt.min(objective, parameter)\n",
        "    zoopt_time = time.time() - start_time\n",
        "    zoopt_value = solution.get_value()\n",
        "\n",
        "    print(f\"Нелдер-Мид: f(x) = {result_nm.fun:.6f}, время: {time_nm:.4f} сек, итераций: {result_nm.nit}\")\n",
        "    print(f\"zoopt: f(x) = {zoopt_value:.6f}, время: {zoopt_time:.4f} сек, итераций: 5000\")\n",
        "    '''\n",
        "\n",
        "    dim_regs = [[-1, 1]] * dim_size  # dimension range\n",
        "    dim_tys = [True] * dim_size  # dimension type : real\n",
        "    dim = Dimension(dim_size, dim_regs, dim_tys)  # form up the dimension object\n",
        "    # dim = Dimension2([(ValueType.CONTINUOUS, [-1, 1], 1e-6)]*dim_size)\n",
        "    objective = Objective(z_func, dim)  # form up the objective function\n",
        "\n",
        "    # setup al gorithm parameters\n",
        "    #budget = 20000  # number of calls to the objective function\n",
        "    #parameter = Parameter(budget=budget, high_dim_handling=True, reducedim=True, num_sre=5, low_dimension=Dimension(10, [[-1, 1]] * 10, [True] * 10))\n",
        "    budget = 1000 * dim_size  # number of calls to the objective function\n",
        "    parameter = Parameter(budget=budget, precision= 1e-6)\n",
        "    #parameter = Parameter(precision=1e-6)\n",
        "\n",
        "\n",
        "    #solution_list = ExpOpt.min(objective, parameter, repeat=1, plot=True)\n",
        "    #print(solution_list)\n",
        "    solution_list = ExpOpt.min(objective, parameter, repeat=1, plot=True)"
      ]
    },
    {
      "cell_type": "code",
      "execution_count": null,
      "metadata": {
        "colab": {
          "base_uri": "https://localhost:8080/"
        },
        "id": "tqUYa1oFbi-0",
        "outputId": "356533c7-f210-4b5e-88ae-b1c666b0e77b"
      },
      "outputs": [
        {
          "output_type": "stream",
          "name": "stdout",
          "text": [
            "\n",
            "Размерность: 2\n",
            "[0.5 0.5]\n",
            "Optimization terminated successfully.\n",
            "         Current function value: 1.979933\n",
            "         Iterations: 40\n",
            "         Function evaluations: 75\n",
            "       message: Optimization terminated successfully.\n",
            "       success: True\n",
            "        status: 0\n",
            "           fun: 1.979932528550279\n",
            "             x: [ 9.900e-01  9.899e-01]\n",
            "           nit: 40\n",
            "          nfev: 75\n",
            " final_simplex: (array([[ 9.900e-01,  9.899e-01],\n",
            "                       [ 9.899e-01,  9.900e-01],\n",
            "                       [ 9.900e-01,  9.900e-01]]), array([ 1.980e+00,  1.980e+00,  1.980e+00]))\n",
            "\n",
            "Размерность: 5\n",
            "[0.5 0.5 0.5 0.5 0.5]\n",
            "Optimization terminated successfully.\n",
            "         Current function value: 1.979933\n",
            "         Iterations: 259\n",
            "         Function evaluations: 418\n",
            "       message: Optimization terminated successfully.\n",
            "       success: True\n",
            "        status: 0\n",
            "           fun: 1.979932841284839\n",
            "             x: [ 9.900e-01  1.218e-05  9.900e-01 -3.967e-05  3.950e-06]\n",
            "           nit: 259\n",
            "          nfev: 418\n",
            " final_simplex: (array([[ 9.900e-01,  1.218e-05, ..., -3.967e-05,\n",
            "                         3.950e-06],\n",
            "                       [ 9.900e-01,  1.987e-05, ...,  3.329e-05,\n",
            "                        -4.840e-05],\n",
            "                       ...,\n",
            "                       [ 9.899e-01,  5.083e-05, ..., -3.220e-05,\n",
            "                         1.822e-05],\n",
            "                       [ 9.900e-01,  1.812e-06, ...,  1.993e-05,\n",
            "                         1.020e-04]]), array([ 1.980e+00,  1.980e+00,  1.980e+00,  1.980e+00,\n",
            "                        1.980e+00,  1.980e+00]))\n",
            "\n",
            "Размерность: 20\n",
            "[0.5 0.5 0.5 0.5 0.5 0.5 0.5 0.5 0.5 0.5 0.5 0.5 0.5 0.5 0.5 0.5 0.5 0.5\n",
            " 0.5 0.5]\n",
            "Optimization terminated successfully.\n",
            "         Current function value: 18.149082\n",
            "         Iterations: 9533\n",
            "         Function evaluations: 11988\n",
            "       message: Optimization terminated successfully.\n",
            "       success: True\n",
            "        status: 0\n",
            "           fun: 18.149082336359754\n",
            "             x: [ 1.106e+00  3.277e-02 ...  2.978e-02 -4.061e-02]\n",
            "           nit: 9533\n",
            "          nfev: 11988\n",
            " final_simplex: (array([[ 1.106e+00,  3.277e-02, ...,  2.978e-02,\n",
            "                        -4.061e-02],\n",
            "                       [ 1.106e+00,  3.276e-02, ...,  2.980e-02,\n",
            "                        -4.058e-02],\n",
            "                       ...,\n",
            "                       [ 1.106e+00,  3.273e-02, ...,  2.980e-02,\n",
            "                        -4.059e-02],\n",
            "                       [ 1.106e+00,  3.274e-02, ...,  2.981e-02,\n",
            "                        -4.058e-02]]), array([ 1.815e+01,  1.815e+01, ...,  1.815e+01,  1.815e+01]))\n"
          ]
        }
      ],
      "source": [
        "import numpy as np\n",
        "from scipy.optimize import minimize\n",
        "\n",
        "def func(x):\n",
        "    return 5 * x.shape[0] + sum([xi**2 - 5 * np.cos(2 * np.pi * xi) for xi in x])\n",
        "\n",
        "dimensions = [2, 5, 20]\n",
        "\n",
        "for dim_size in dimensions:\n",
        "    print(f\"\\nРазмерность: {dim_size}\")\n",
        "\n",
        "    x0 = np.ones(dim_size) / 2.\n",
        "    print(x0)\n",
        "    res = minimize(func, x0, method='nelder-mead',\n",
        "               options={'fatol': 1e-6, 'disp': True, 'maxiter': 1e5})\n",
        "    print(res)"
      ]
    }
  ],
  "metadata": {
    "colab": {
      "provenance": [],
      "include_colab_link": true
    },
    "kernelspec": {
      "display_name": "Python 3 (ipykernel)",
      "language": "python",
      "name": "python3"
    },
    "language_info": {
      "codemirror_mode": {
        "name": "ipython",
        "version": 3
      },
      "file_extension": ".py",
      "mimetype": "text/x-python",
      "name": "python",
      "nbconvert_exporter": "python",
      "pygments_lexer": "ipython3",
      "version": "3.11.11"
    }
  },
  "nbformat": 4,
  "nbformat_minor": 0
}